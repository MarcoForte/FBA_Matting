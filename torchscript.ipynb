{
 "cells": [
  {
   "cell_type": "code",
   "execution_count": 1,
   "source": [
    "from networks.models import build_model"
   ],
   "outputs": [],
   "metadata": {}
  },
  {
   "cell_type": "code",
   "execution_count": 2,
   "source": [
    "import torch\n",
    "import cv2\n",
    "import matplotlib.pyplot as plt"
   ],
   "outputs": [],
   "metadata": {}
  },
  {
   "cell_type": "code",
   "execution_count": 12,
   "source": [
    "model_custom = build_model(\"FBA.pth\", custom_groupnorm=True).cuda().eval()\n",
    "model = build_model(\"FBA.pth\", custom_groupnorm=False).cuda().eval()"
   ],
   "outputs": [
    {
     "output_type": "stream",
     "name": "stdout",
     "text": [
      "modifying input layer to accept 11 channels\n",
      "modifying input layer to accept 11 channels\n"
     ]
    }
   ],
   "metadata": {}
  },
  {
   "cell_type": "code",
   "execution_count": 9,
   "source": [
    "image = torch.randn((1, 3, 128, 128)).cuda()\n",
    "two_chan_trimap=  torch.randn((1, 2, 128, 128)).cuda()\n",
    "image_n=torch.randn((1, 3, 128, 128)).cuda()\n",
    "trimap_transformed =torch.randn((1, 6, 128, 128)).cuda()\n",
    "output = model(image, two_chan_trimap, image_n, trimap_transformed)"
   ],
   "outputs": [],
   "metadata": {}
  },
  {
   "cell_type": "code",
   "execution_count": 14,
   "source": [
    "output = model(image, two_chan_trimap, image_n, trimap_transformed)\n",
    "output_custom = model_custom(image, two_chan_trimap, image_n, trimap_transformed)\n",
    "print(torch.mean( (output - output_custom)**2).item())"
   ],
   "outputs": [
    {
     "output_type": "stream",
     "name": "stdout",
     "text": [
      "5.12290210252786e-09\n"
     ]
    }
   ],
   "metadata": {}
  },
  {
   "cell_type": "code",
   "execution_count": 26,
   "source": [
    "jitmodel = torch.jit.trace(model, [image, two_chan_trimap, image_n, trimap_transformed])\n",
    "jitmodel_custom = torch.jit.trace(model_custom, [image, two_chan_trimap, image_n, trimap_transformed])"
   ],
   "outputs": [],
   "metadata": {}
  },
  {
   "cell_type": "code",
   "execution_count": 27,
   "source": [
    "output_jit = jitmodel(image, two_chan_trimap, image_n, trimap_transformed)\n",
    "output_jit_custom = jitmodel_custom(image, two_chan_trimap, image_n, trimap_transformed)"
   ],
   "outputs": [],
   "metadata": {}
  },
  {
   "cell_type": "code",
   "execution_count": 28,
   "source": [
    "print(torch.mean( (output - output_jit)**2).item())\n",
    "print(torch.mean( (output_custom  - output_jit_custom )**2).item())"
   ],
   "outputs": [
    {
     "output_type": "stream",
     "name": "stdout",
     "text": [
      "0.0\n",
      "0.0\n"
     ]
    }
   ],
   "metadata": {}
  },
  {
   "cell_type": "code",
   "execution_count": 23,
   "source": [
    "%timeit _ = jitmodel(image, two_chan_trimap, image_n, trimap_transformed); torch.cuda.synchronize()"
   ],
   "outputs": [
    {
     "output_type": "stream",
     "name": "stdout",
     "text": [
      "5.9 ms ± 73 µs per loop (mean ± std. dev. of 7 runs, 100 loops each)\n"
     ]
    }
   ],
   "metadata": {}
  },
  {
   "cell_type": "code",
   "execution_count": 24,
   "source": [
    "%timeit _ = model(image, two_chan_trimap, image_n, trimap_transformed); torch.cuda.synchronize()"
   ],
   "outputs": [
    {
     "output_type": "stream",
     "name": "stdout",
     "text": [
      "8.08 ms ± 80 µs per loop (mean ± std. dev. of 7 runs, 100 loops each)\n"
     ]
    }
   ],
   "metadata": {}
  },
  {
   "cell_type": "code",
   "execution_count": 25,
   "source": [
    "%timeit _ = model_custom(image, two_chan_trimap, image_n, trimap_transformed); torch.cuda.synchronize()"
   ],
   "outputs": [
    {
     "output_type": "stream",
     "name": "stdout",
     "text": [
      "13 ms ± 49.9 µs per loop (mean ± std. dev. of 7 runs, 100 loops each)\n"
     ]
    }
   ],
   "metadata": {}
  },
  {
   "cell_type": "code",
   "execution_count": 31,
   "source": [
    "%timeit _ = jitmodel_custom(image, two_chan_trimap, image_n, trimap_transformed); torch.cuda.synchronize()"
   ],
   "outputs": [
    {
     "output_type": "stream",
     "name": "stdout",
     "text": [
      "9.03 ms ± 55.8 µs per loop (mean ± std. dev. of 7 runs, 100 loops each)\n"
     ]
    }
   ],
   "metadata": {}
  },
  {
   "cell_type": "code",
   "execution_count": null,
   "source": [],
   "outputs": [],
   "metadata": {}
  }
 ],
 "metadata": {
  "orig_nbformat": 4,
  "language_info": {
   "name": "python",
   "version": "3.8.5",
   "mimetype": "text/x-python",
   "codemirror_mode": {
    "name": "ipython",
    "version": 3
   },
   "pygments_lexer": "ipython3",
   "nbconvert_exporter": "python",
   "file_extension": ".py"
  },
  "kernelspec": {
   "name": "python3",
   "display_name": "Python 3.8.5 64-bit ('base': conda)"
  },
  "interpreter": {
   "hash": "c81b9cd8e0a9008ef2c2b50032556bb47b7837e23c42e37fcb1c71e2e49ce391"
  }
 },
 "nbformat": 4,
 "nbformat_minor": 2
}